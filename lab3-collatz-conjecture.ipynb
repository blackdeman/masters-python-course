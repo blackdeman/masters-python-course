{
 "cells": [
  {
   "cell_type": "code",
   "execution_count": 2,
   "metadata": {
    "collapsed": true
   },
   "outputs": [],
   "source": [
    "import sys"
   ]
  },
  {
   "cell_type": "code",
   "execution_count": 3,
   "metadata": {
    "collapsed": false
   },
   "outputs": [],
   "source": [
    "def collatz_conjecture(x):\n",
    "    tmp = x\n",
    "    sys.stdout.write(\"%d\" % x)\n",
    "    while (tmp != 1): \n",
    "        if (tmp % 2):\n",
    "            tmp = 3 * tmp + 1\n",
    "        else:\n",
    "            tmp = tmp / 2\n",
    "        sys.stdout.write(\" -> %d\" % tmp)\n",
    "        # to break probable cycles\n",
    "        if (tmp == x):\n",
    "            break;\n",
    "    sys.stdout.write('\\n')\n",
    "    return tmp == 1"
   ]
  },
  {
   "cell_type": "code",
   "execution_count": 4,
   "metadata": {
    "collapsed": false
   },
   "outputs": [
    {
     "name": "stdout",
     "output_type": "stream",
     "text": [
      "3 -> 10 -> 5 -> 16 -> 8 -> 4 -> 2 -> 1\n",
      "True\n"
     ]
    }
   ],
   "source": [
    "print(collatz_conjecture(3))"
   ]
  },
  {
   "cell_type": "code",
   "execution_count": 5,
   "metadata": {
    "collapsed": false
   },
   "outputs": [
    {
     "name": "stdout",
     "output_type": "stream",
     "text": [
      "1\n",
      "True\n"
     ]
    }
   ],
   "source": [
    "print(collatz_conjecture(1))"
   ]
  },
  {
   "cell_type": "code",
   "execution_count": 62,
   "metadata": {
    "collapsed": false
   },
   "outputs": [
    {
     "name": "stdout",
     "output_type": "stream",
     "text": [
      "1000000003 -> 3000000010 -> 1500000005 -> 4500000016 -> 2250000008 -> 1125000004 -> 562500002 -> 281250001 -> 843750004 -> 421875002 -> 210937501 -> 632812504 -> 316406252 -> 158203126 -> 79101563 -> 237304690 -> 118652345 -> 355957036 -> 177978518 -> 88989259 -> 266967778 -> 133483889 -> 400451668 -> 200225834 -> 100112917 -> 300338752 -> 150169376 -> 75084688 -> 37542344 -> 18771172 -> 9385586 -> 4692793 -> 14078380 -> 7039190 -> 3519595 -> 10558786 -> 5279393 -> 15838180 -> 7919090 -> 3959545 -> 11878636 -> 5939318 -> 2969659 -> 8908978 -> 4454489 -> 13363468 -> 6681734 -> 3340867 -> 10022602 -> 5011301 -> 15033904 -> 7516952 -> 3758476 -> 1879238 -> 939619 -> 2818858 -> 1409429 -> 4228288 -> 2114144 -> 1057072 -> 528536 -> 264268 -> 132134 -> 66067 -> 198202 -> 99101 -> 297304 -> 148652 -> 74326 -> 37163 -> 111490 -> 55745 -> 167236 -> 83618 -> 41809 -> 125428 -> 62714 -> 31357 -> 94072 -> 47036 -> 23518 -> 11759 -> 35278 -> 17639 -> 52918 -> 26459 -> 79378 -> 39689 -> 119068 -> 59534 -> 29767 -> 89302 -> 44651 -> 133954 -> 66977 -> 200932 -> 100466 -> 50233 -> 150700 -> 75350 -> 37675 -> 113026 -> 56513 -> 169540 -> 84770 -> 42385 -> 127156 -> 63578 -> 31789 -> 95368 -> 47684 -> 23842 -> 11921 -> 35764 -> 17882 -> 8941 -> 26824 -> 13412 -> 6706 -> 3353 -> 10060 -> 5030 -> 2515 -> 7546 -> 3773 -> 11320 -> 5660 -> 2830 -> 1415 -> 4246 -> 2123 -> 6370 -> 3185 -> 9556 -> 4778 -> 2389 -> 7168 -> 3584 -> 1792 -> 896 -> 448 -> 224 -> 112 -> 56 -> 28 -> 14 -> 7 -> 22 -> 11 -> 34 -> 17 -> 52 -> 26 -> 13 -> 40 -> 20 -> 10 -> 5 -> 16 -> 8 -> 4 -> 2 -> 1\n",
      "True\n"
     ]
    }
   ],
   "source": []
  }
 ],
 "metadata": {
  "anaconda-cloud": {},
  "kernelspec": {
   "display_name": "Python [Root]",
   "language": "python",
   "name": "Python [Root]"
  },
  "language_info": {
   "codemirror_mode": {
    "name": "ipython",
    "version": 2
   },
   "file_extension": ".py",
   "mimetype": "text/x-python",
   "name": "python",
   "nbconvert_exporter": "python",
   "pygments_lexer": "ipython2",
   "version": "2.7.12"
  }
 },
 "nbformat": 4,
 "nbformat_minor": 0
}
